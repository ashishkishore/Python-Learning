{
 "cells": [
  {
   "cell_type": "markdown",
   "metadata": {},
   "source": [
    "<img src=\"https://upgrad.com/images/upgradlogo.png\" alt=\"Drawing\" style=\"width: 200px;\"/>"
   ]
  },
  {
   "cell_type": "markdown",
   "metadata": {},
   "source": [
    "# BASICS"
   ]
  },
  {
   "cell_type": "markdown",
   "metadata": {},
   "source": [
    "Welcome to the Python Practice workbook. You will need to take a look at the examples as well as answer some questions to practice programming in python. Only time and practice helps in hands-on-experience with a language. To run a cell, use Shift + Enter. The out put is displayed right below. "
   ]
  },
  {
   "cell_type": "markdown",
   "metadata": {},
   "source": [
    "Let's begin with printing. We can print using print() and the text or varriable to print appears inside the parentheses."
   ]
  },
  {
   "cell_type": "code",
   "execution_count": null,
   "metadata": {
    "collapsed": false
   },
   "outputs": [],
   "source": [
    "#Ex.1 - Print -- Run using Shift+Enter\n",
    "\n",
    "print(\"Hello World\")\n",
    "print(\"Hello\" + \" \" + \"World\")\n"
   ]
  },
  {
   "cell_type": "markdown",
   "metadata": {},
   "source": [
    "To accept input from user, we use the **input()** function. The input from user can be assigned to a variable. The input type is always a string even if you enter an integer."
   ]
  },
  {
   "cell_type": "code",
   "execution_count": null,
   "metadata": {
    "collapsed": false
   },
   "outputs": [],
   "source": [
    "#Ex.2 - Input\n",
    "\n",
    "name = input(\"What is your name : \")\n",
    "print(\"My name is {0}.\".format(name))"
   ]
  },
  {
   "cell_type": "code",
   "execution_count": null,
   "metadata": {
    "collapsed": true
   },
   "outputs": [],
   "source": [
    "Q1. Print a string  -> I have put quotes \"\" here. (Hint : Try single quotes instead)\n",
    "Q2. Accept input from a user asking the age. Then print \"Your age is \""
   ]
  },
  {
   "cell_type": "code",
   "execution_count": null,
   "metadata": {
    "collapsed": true
   },
   "outputs": [],
   "source": [
    "# - Answer to Q1\n"
   ]
  },
  {
   "cell_type": "code",
   "execution_count": null,
   "metadata": {
    "collapsed": true
   },
   "outputs": [],
   "source": [
    "# - Answer to Q2\n"
   ]
  },
  {
   "cell_type": "markdown",
   "metadata": {},
   "source": [
    "## Operators"
   ]
  },
  {
   "cell_type": "markdown",
   "metadata": {},
   "source": [
    "| Symbol | Task Performed |\n",
    "|----|---|\n",
    "| +  | Addition |\n",
    "| -  | Subtraction |\n",
    "| /  | division |\n",
    "| %  | mod |\n",
    "| *  | multiplication |\n",
    "| //  | floor division |\n",
    "| **  | to the power of |"
   ]
  },
  {
   "cell_type": "markdown",
   "metadata": {},
   "source": [
    "The assignment operator in Python is = . Python is a dynamically typed language, so we do not need to specify the type of a variable when we create one.\n",
    "\n",
    "Assigning a value to a new variable creates the variable"
   ]
  },
  {
   "cell_type": "code",
   "execution_count": null,
   "metadata": {
    "collapsed": true
   },
   "outputs": [],
   "source": [
    "first_variable = 4\n",
    "second_variable = 9\n",
    "sum_of_both = first_variable + second_variable\n",
    "print(sum_of_both)\n"
   ]
  },
  {
   "cell_type": "markdown",
   "metadata": {},
   "source": [
    "round( ) function rounds the input value to a specified number of places or to the nearest integer."
   ]
  },
  {
   "cell_type": "code",
   "execution_count": null,
   "metadata": {
    "collapsed": false
   },
   "outputs": [],
   "source": [
    "print(round(5.6231))\n",
    "print(round(4.55892, 2)) #round off by 2 places"
   ]
  },
  {
   "cell_type": "markdown",
   "metadata": {},
   "source": [
    "Increment and Decrement of variables can be done by using += or -= or reassigning as well. For example"
   ]
  },
  {
   "cell_type": "code",
   "execution_count": null,
   "metadata": {
    "collapsed": false
   },
   "outputs": [],
   "source": [
    "num1 = 2\n",
    "num1 = num1 + 1\n",
    "print(num1)"
   ]
  },
  {
   "cell_type": "code",
   "execution_count": null,
   "metadata": {
    "collapsed": false
   },
   "outputs": [],
   "source": [
    "num1 += 2\n",
    "print(num1)"
   ]
  },
  {
   "cell_type": "code",
   "execution_count": null,
   "metadata": {
    "collapsed": false
   },
   "outputs": [],
   "source": [
    "num1 -= 4\n",
    "print(num1)"
   ]
  },
  {
   "cell_type": "code",
   "execution_count": null,
   "metadata": {
    "collapsed": true
   },
   "outputs": [],
   "source": [
    "Q3. Accept an input temperature from the user in degrees celsius. Convert the input temperature to fahrenheit and print the output.\n",
    "Q4. Write a Python program that will accept the base and height of a triangle and compute the area.\n",
    "Q5. Consider the following variables - \n",
    "a = '1'\n",
    "b = '2'\n",
    "Try obtaining 3 by using a and b using the '+' operator. "
   ]
  },
  {
   "cell_type": "markdown",
   "metadata": {},
   "source": [
    "## Relational & Logical Operators"
   ]
  },
  {
   "cell_type": "markdown",
   "metadata": {},
   "source": [
    "| Symbol | Task Performed |\n",
    "|----|---|\n",
    "| == | True, if it is equal |\n",
    "| !=  | True, if not equal to |\n",
    "| < | less than |\n",
    "| > | greater than |\n",
    "| <=  | less than or equal to |\n",
    "| >=  | greater than or equal to |\n",
    "| and  |AND|\n",
    "| or  | OR |\n",
    "|  !=  | NOT |"
   ]
  },
  {
   "cell_type": "code",
   "execution_count": null,
   "metadata": {
    "collapsed": false
   },
   "outputs": [],
   "source": [
    "print(5>4)\n",
    "print(\"hello\"==\"hello\")\n",
    "print(3<2 and 4>3)\n",
    "print(6<5 or 5>4)\n",
    "print(5 != 5)\n",
    "print('7' in 'seven7')\n",
    "print((5 >= 1) and (5 <= 10))"
   ]
  },
  {
   "cell_type": "markdown",
   "metadata": {},
   "source": [
    "## String Slicing\n",
    "Indexing in Python starts with 0. And when slicing, the first index specified is included whereas the end index isn't included in the slice.\n",
    "'SLICER'\n",
    "**S** is at the first position / Index = 0  \n",
    "**L** is at the second position / Index = 1  \n",
    "**.**  \n",
    "**.**  \n",
    "**.**  \n",
    "**R** is at the sixth position / Index = 5  \n",
    "\n",
    "[0:4] will return **SLIC**. Note that **C** is at index 3. Element at index 4 is not included."
   ]
  },
  {
   "cell_type": "code",
   "execution_count": null,
   "metadata": {
    "collapsed": false
   },
   "outputs": [],
   "source": [
    "s = \"Krish, Ravi, and Ahmed\"\n",
    "print(s[0:5])\n",
    "\n",
    "print(s[7:11])\n",
    "\n",
    "print(s[17:22])"
   ]
  }
 ],
 "metadata": {
  "anaconda-cloud": {},
  "kernelspec": {
   "display_name": "Python 3",
   "language": "python",
   "name": "python3"
  },
  "language_info": {
   "codemirror_mode": {
    "name": "ipython",
    "version": 3
   },
   "file_extension": ".py",
   "mimetype": "text/x-python",
   "name": "python",
   "nbconvert_exporter": "python",
   "pygments_lexer": "ipython3",
   "version": "3.5.2"
  }
 },
 "nbformat": 4,
 "nbformat_minor": 0
}
